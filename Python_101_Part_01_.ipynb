{
  "nbformat": 4,
  "nbformat_minor": 0,
  "metadata": {
    "colab": {
      "name": "Python 101 - Part 01 .ipynb",
      "provenance": [],
      "collapsed_sections": [],
      "authorship_tag": "ABX9TyNVrfLU7oSOeV9SKlLALYEn",
      "include_colab_link": true
    },
    "kernelspec": {
      "name": "python3",
      "display_name": "Python 3"
    },
    "language_info": {
      "name": "python"
    }
  },
  "cells": [
    {
      "cell_type": "markdown",
      "metadata": {
        "id": "view-in-github",
        "colab_type": "text"
      },
      "source": [
        "<a href=\"https://colab.research.google.com/github/TurboJapuraEfac/HackerrankPython/blob/master/Python_101_Part_01_.ipynb\" target=\"_parent\"><img src=\"https://colab.research.google.com/assets/colab-badge.svg\" alt=\"Open In Colab\"/></a>"
      ]
    },
    {
      "cell_type": "markdown",
      "source": [
        "**Variables**"
      ],
      "metadata": {
        "id": "bWt8P5qgUdgD"
      }
    },
    {
      "cell_type": "code",
      "execution_count": 1,
      "metadata": {
        "id": "ZjOZsiChUXZw",
        "colab": {
          "base_uri": "https://localhost:8080/",
          "height": 35
        },
        "outputId": "87045503-c92e-4811-addf-e06ba59dbd4b"
      },
      "outputs": [
        {
          "output_type": "execute_result",
          "data": {
            "text/plain": [
              "'\\nbreak = 5\\nprint(break)'"
            ],
            "application/vnd.google.colaboratory.intrinsic+json": {
              "type": "string"
            }
          },
          "metadata": {},
          "execution_count": 1
        }
      ],
      "source": [
        "#Create a variable called break and assign it a value 5. \n",
        "#See what happens and find out the reason behind the behavior that you see.\n",
        "'''\n",
        "break = 5\n",
        "print(break)'''\n",
        "\n",
        "#  File \"<ipython-input-1-4f05e137bc4f>\", line 4\n",
        "#     break = 5\n",
        "#           ^\n",
        "# SyntaxError: invalid syntax"
      ]
    },
    {
      "cell_type": "code",
      "source": [
        "# Create two variables. One to store your birth year and another one to store current year. \n",
        "# Now calculate your age using these two variables\n",
        "birth_year = 1996\n",
        "curre_year = 2022\n",
        "age = curre_year - birth_year\n",
        "print(age)"
      ],
      "metadata": {
        "id": "cce1hgVqUqDG",
        "colab": {
          "base_uri": "https://localhost:8080/"
        },
        "outputId": "27d57631-8fc9-4a98-d16f-7ab9cfaf5904"
      },
      "execution_count": 2,
      "outputs": [
        {
          "output_type": "stream",
          "name": "stdout",
          "text": [
            "26\n"
          ]
        }
      ]
    },
    {
      "cell_type": "code",
      "source": [
        "#Store your first, middle and last name in three different variables \n",
        "#and then print your full name using these variables\n",
        "first = \"Nimesh \"\n",
        "middle = \"Buddhika \"\n",
        "last = \"Weerasinghe\"\n",
        "name = first+middle+last\n",
        "print(name)"
      ],
      "metadata": {
        "id": "hfGPGuhiU-a6",
        "colab": {
          "base_uri": "https://localhost:8080/"
        },
        "outputId": "6fd43aa9-fb89-4277-f8b7-cc24ca17e649"
      },
      "execution_count": 3,
      "outputs": [
        {
          "output_type": "stream",
          "name": "stdout",
          "text": [
            "Nimesh Buddhika Weerasinghe\n"
          ]
        }
      ]
    },
    {
      "cell_type": "code",
      "source": [
        "# 4. Answer which of these are invalid variable names:\n",
        "# \"_nation, 1record, record1, record_one, record-one, record^one, continue\"\n",
        "\n",
        "'''1record, record-one, record^one, continue'''"
      ],
      "metadata": {
        "id": "KO8O_xi2VTRU",
        "colab": {
          "base_uri": "https://localhost:8080/",
          "height": 35
        },
        "outputId": "b3bef8f8-28ce-4d95-bf79-e443365fefda"
      },
      "execution_count": 4,
      "outputs": [
        {
          "output_type": "execute_result",
          "data": {
            "text/plain": [
              "'1record, record-one, record^one, continue'"
            ],
            "application/vnd.google.colaboratory.intrinsic+json": {
              "type": "string"
            }
          },
          "metadata": {},
          "execution_count": 4
        }
      ]
    },
    {
      "cell_type": "markdown",
      "source": [
        "**Numbers**"
      ],
      "metadata": {
        "id": "gW31gpqeWXU2"
      }
    },
    {
      "cell_type": "code",
      "source": [
        "#You have a football field that is 92 meter long and 48.8 meter wide. Find out total area using python and print it.\n",
        "wide = float(48.8)\n",
        "long_ = float(92)\n",
        "area = 2 * (wide+long_)\n",
        "print(area)\n"
      ],
      "metadata": {
        "id": "u6NT2AxkVnrv",
        "colab": {
          "base_uri": "https://localhost:8080/"
        },
        "outputId": "1ed524bb-508b-4469-dac0-8cf1439efdf7"
      },
      "execution_count": 5,
      "outputs": [
        {
          "output_type": "stream",
          "name": "stdout",
          "text": [
            "281.6\n"
          ]
        }
      ]
    },
    {
      "cell_type": "code",
      "source": [
        "# You bought 9 packets of potato chips from a store. Each packet costs 1.49 dollar and you gave shopkeeper 20 dollar.\n",
        "# Find out using python, how many dollars is the shopkeeper going to give you back?\n",
        "packet = float(1.49)\n",
        "remains = float(20) - (packet*9)\n",
        "print(remains)"
      ],
      "metadata": {
        "id": "_CQR9ATsWzqD",
        "colab": {
          "base_uri": "https://localhost:8080/"
        },
        "outputId": "04238669-74f6-401f-9bab-20b8980933cc"
      },
      "execution_count": 6,
      "outputs": [
        {
          "output_type": "stream",
          "name": "stdout",
          "text": [
            "6.59\n"
          ]
        }
      ]
    },
    {
      "cell_type": "code",
      "source": [
        "# You want to replace tiles in your bathroom which is exactly square and 5.5 feet is its length. \n",
        "# If tiles cost 500 rs per square feet, how much will be the total cost to replace all tiles. \n",
        "# Calculate and print the cost using python (Hint: Use power operator ** to find area of a square)\n",
        "\n",
        "area = 5.5 ** 2\n",
        "cost_per_1 = 500\n",
        "total_cost = area * 500\n",
        "print(total_cost)"
      ],
      "metadata": {
        "id": "XML7yzXwXZGR",
        "colab": {
          "base_uri": "https://localhost:8080/"
        },
        "outputId": "8a8a315e-c4b9-4665-caae-e73bec9d7ffc"
      },
      "execution_count": 7,
      "outputs": [
        {
          "output_type": "stream",
          "name": "stdout",
          "text": [
            "15125.0\n"
          ]
        }
      ]
    },
    {
      "cell_type": "code",
      "source": [
        "#Print binary representation of number 17\n",
        "num=17\n",
        "print('Binary of number 17 is:',format(num,'b')) "
      ],
      "metadata": {
        "id": "SwZi-sRqYFMo",
        "colab": {
          "base_uri": "https://localhost:8080/"
        },
        "outputId": "8bb2e2fd-4072-40ce-a84d-279b82c7762d"
      },
      "execution_count": 8,
      "outputs": [
        {
          "output_type": "stream",
          "name": "stdout",
          "text": [
            "Binary of number 17 is: 10001\n"
          ]
        }
      ]
    },
    {
      "cell_type": "markdown",
      "source": [
        "**strings** & strings are immutable"
      ],
      "metadata": {
        "id": "QN6F7g9VavD_"
      }
    },
    {
      "cell_type": "code",
      "source": [
        "# Create a string variable to store this text \"Earth revolves around the sun\",\n",
        "#     (a) Print substring “revolves” \n",
        "#     (b) Print substring “sun” using negative index\n",
        "\n",
        "text = \"Earth revolves around the sun\"\n",
        "print(text[6:15])"
      ],
      "metadata": {
        "id": "qqtoaPCSYwkD",
        "colab": {
          "base_uri": "https://localhost:8080/"
        },
        "outputId": "9d412450-f8d0-4163-a3ca-ce9518477ecf"
      },
      "execution_count": 9,
      "outputs": [
        {
          "output_type": "stream",
          "name": "stdout",
          "text": [
            "revolves \n"
          ]
        }
      ]
    },
    {
      "cell_type": "code",
      "source": [
        "print(text[-3:])"
      ],
      "metadata": {
        "id": "J_nbiXzjbOGo",
        "colab": {
          "base_uri": "https://localhost:8080/"
        },
        "outputId": "97b164b2-0d8d-4f30-872c-1dfcee090061"
      },
      "execution_count": 10,
      "outputs": [
        {
          "output_type": "stream",
          "name": "stdout",
          "text": [
            "sun\n"
          ]
        }
      ]
    },
    {
      "cell_type": "code",
      "source": [
        "# 1. Create 3 variables to store street, city and country, now create address variable to\n",
        "# store entire address. Use two ways of creating this variable, one using + operator and the other using f-string.\n",
        "# Now Print the address in such a way that the street, city and country prints in a separate line\n",
        "\n",
        "street = \"Paluwelagala Road\"\n",
        "city = \"Naththandiya\"\n",
        "country = \"Sri-Lanka\"\n",
        "print( street + '\\n' + city + '\\n' + country)"
      ],
      "metadata": {
        "id": "tWBLXwnkbYO4",
        "colab": {
          "base_uri": "https://localhost:8080/"
        },
        "outputId": "5b3d7599-33cf-4af3-9745-2df0084a76d0"
      },
      "execution_count": 11,
      "outputs": [
        {
          "output_type": "stream",
          "name": "stdout",
          "text": [
            "Paluwelagala Road\n",
            "Naththandiya\n",
            "Sri-Lanka\n"
          ]
        }
      ]
    },
    {
      "cell_type": "code",
      "source": [
        "address = f'{street}\\n{city}\\n{country}'\n",
        "print(address)"
      ],
      "metadata": {
        "id": "xdfVcoXmcJCa",
        "colab": {
          "base_uri": "https://localhost:8080/"
        },
        "outputId": "88b6c3fe-bd56-419a-ce99-cdeda43703a1"
      },
      "execution_count": 12,
      "outputs": [
        {
          "output_type": "stream",
          "name": "stdout",
          "text": [
            "Paluwelagala Road\n",
            "Naththandiya\n",
            "Sri-Lanka\n"
          ]
        }
      ]
    },
    {
      "cell_type": "code",
      "source": [
        "# Create two variables to store how many fruits and vegetables you eat in a day. \n",
        "# Now Print \"I eat x veggies and y fruits daily\" where x and y presents vegetables and fruits that you eat everyday. \n",
        "# Use python f string for this.\n",
        "fruits = 2\n",
        "vegetables = 5\n",
        "print(f\"I eat {vegetables} veggies and {fruits} fruits daily\")"
      ],
      "metadata": {
        "id": "5KvNxhuGcWL4",
        "colab": {
          "base_uri": "https://localhost:8080/"
        },
        "outputId": "37e23329-2742-43a5-e24f-a0724f44b09d"
      },
      "execution_count": 13,
      "outputs": [
        {
          "output_type": "stream",
          "name": "stdout",
          "text": [
            "I eat 5 veggies and 2 fruits daily\n"
          ]
        }
      ]
    },
    {
      "cell_type": "code",
      "source": [
        "# I have a string variable called s='maine 200 banana khaye'.\n",
        "# This of course is a wrong statement, the correct statement is 'maine 10 samosa khaye'. \n",
        "# Replace incorrect words in original strong with new ones and print the new string.\n",
        "# Also try to do this in one line.\n",
        "\n",
        "s='maine 200 samosa khaye'\n",
        "x = s.replace(\"200\", \"10\")\n",
        "print(x)"
      ],
      "metadata": {
        "id": "ViPdx7QBc4IV",
        "colab": {
          "base_uri": "https://localhost:8080/"
        },
        "outputId": "1c267104-00cb-428a-8519-7e4ef55b5c21"
      },
      "execution_count": 14,
      "outputs": [
        {
          "output_type": "stream",
          "name": "stdout",
          "text": [
            "maine 10 samosa khaye\n"
          ]
        }
      ]
    },
    {
      "cell_type": "markdown",
      "source": [
        "`**PyChram**`\n",
        "\n",
        "\n",
        "\n",
        "1.   Create a new project\n",
        "2.   Change Location to where you want\n",
        "3.   Create new python file\n",
        "\n"
      ],
      "metadata": {
        "id": "NFxZ-cDNeXWX"
      }
    },
    {
      "cell_type": "markdown",
      "source": [
        "**If Statements**"
      ],
      "metadata": {
        "id": "-PDvqEmpfx2d"
      }
    },
    {
      "cell_type": "code",
      "source": [
        "india = [\"mumbai\", \"banglore\", \"chennai\", \"delhi\"]\n",
        "pakistan = [\"lahore\",\"karachi\",\"islamabad\"]\n",
        "bangladesh = [\"dhaka\", \"khulna\", \"rangpur\"]\n",
        "\n",
        "# Write a program that asks user to enter a city name and it should tell which country the city belongs to\n",
        "# Write a program that asks user to enter two cities and it tells you if they both are in same country or not.\n",
        "# For example if I enter mumbai and chennai, it will print \"Both cities are in India\" \n",
        "# but if I enter mumbai and dhaka it should print \"They don't belong to same country\"\n",
        "\n",
        "x = input()\n",
        "\n",
        "if x in india:\n",
        "  print(f\"{x} is a city in India\")\n",
        "elif x in pakistan:\n",
        "  print(f\"{x} is a city in Pakistan\")\n",
        "elif x in bangladesh:\n",
        "  print(f\"{x} is a city in bangladesh\")\n",
        "else:\n",
        "  print(f\"{x} is not a city of any of above countries\")\n"
      ],
      "metadata": {
        "id": "xoJNwP2AdGTf",
        "colab": {
          "base_uri": "https://localhost:8080/"
        },
        "outputId": "103f93be-c074-4620-c1f7-19addd685da1"
      },
      "execution_count": 15,
      "outputs": [
        {
          "output_type": "stream",
          "name": "stdout",
          "text": [
            "mumbai\n",
            "mumbai is a city in India\n"
          ]
        }
      ]
    },
    {
      "cell_type": "code",
      "source": [
        "x1 = input()\n",
        "x2 = input()\n",
        "\n",
        "if x1 in india and x2 in india:\n",
        "  print(f\"{x1,x2} are cities in India\")\n",
        "elif x1 in pakistan and x2 in pakistan:\n",
        "  print(f\"{x1,x2} are cities in Pakistan\")\n",
        "elif x1 in bangladesh and x2 in bangladesh:\n",
        "  print(f\"{x1,x2} are cities in bangladesh\")\n",
        "else:\n",
        "  print(f\"{x1,x2} doesnot belong to same country\")\n"
      ],
      "metadata": {
        "id": "vFzy4ycxgWb4",
        "colab": {
          "base_uri": "https://localhost:8080/"
        },
        "outputId": "02a997ff-9303-42ac-9f40-106d4c380cfe"
      },
      "execution_count": 16,
      "outputs": [
        {
          "output_type": "stream",
          "name": "stdout",
          "text": [
            "mumbai\n",
            "delhi\n",
            "('mumbai', 'delhi') are cities in India\n"
          ]
        }
      ]
    },
    {
      "cell_type": "code",
      "source": [
        "# Exercise: Python If Condition\n",
        "# 2. Write a python program that can tell you if your sugar is normal or not. Normal fasting level sugar range is 80 to 100.\n",
        "#     1. Ask user to enter his fasting sugar level\n",
        "#     2. If it is below 80 to 100 range then print that sugar is low\n",
        "#     3. If it is above 100 then print that it is high otherwise print that it is normal\n",
        "\n",
        "x = input(\"Please enter your fasting sugar level:\")\n",
        "x = float(x)\n",
        "if x < 80:\n",
        "  print(\"Your sugar level is low\")\n",
        "elif x > 100:\n",
        "  print(\"Your sugar level is high\")\n",
        "else:\n",
        "   print(\"Your sugar is normal, relax and enjoy your life!\")"
      ],
      "metadata": {
        "colab": {
          "base_uri": "https://localhost:8080/"
        },
        "id": "kenbKGysh9e1",
        "outputId": "19a5391b-4e9e-454b-e97a-007540704b8a"
      },
      "execution_count": 17,
      "outputs": [
        {
          "output_type": "stream",
          "name": "stdout",
          "text": [
            "Please enter your fasting sugar level:100\n",
            "Your sugar is normal, relax and enjoy your life!\n"
          ]
        }
      ]
    },
    {
      "cell_type": "code",
      "source": [
        "# Store monthly expenses in a list and find out total expenses for all the months\n",
        "\n",
        "expense_list = [2340, 2500, 2100, 3100, 2980]\n",
        "month_list = [\"January\", \"February\", \"March\", \"April\", \"May\"]\n",
        "\n",
        "total  = 0\n",
        "for i in expense_list:\n",
        "  total = total + i\n",
        "print(total)"
      ],
      "metadata": {
        "id": "3Ac5Qt5Hjaon",
        "colab": {
          "base_uri": "https://localhost:8080/"
        },
        "outputId": "27ded146-0760-48a2-9f65-83b63cfbc624"
      },
      "execution_count": 18,
      "outputs": [
        {
          "output_type": "stream",
          "name": "stdout",
          "text": [
            "13020\n"
          ]
        }
      ]
    },
    {
      "cell_type": "code",
      "source": [
        "# start varaible to end+1\n",
        "for i in range(1,11):\n",
        "  print(i**3)"
      ],
      "metadata": {
        "colab": {
          "base_uri": "https://localhost:8080/"
        },
        "id": "9CL8MnSrMrgG",
        "outputId": "2a68452a-7ed4-4684-fb20-93b6625a7655"
      },
      "execution_count": 19,
      "outputs": [
        {
          "output_type": "stream",
          "name": "stdout",
          "text": [
            "1\n",
            "8\n",
            "27\n",
            "64\n",
            "125\n",
            "216\n",
            "343\n",
            "512\n",
            "729\n",
            "1000\n"
          ]
        }
      ]
    },
    {
      "cell_type": "code",
      "source": [
        "total  = 0\n",
        "expense_list = [2340, 2500, 2100, 3100, 2980]\n",
        "for i in range(len(expense_list)):\n",
        "  print(\"Month : \", i+1, \" Value : \",expense_list[i] )\n",
        "  total = total + expense_list[i]\n",
        "print('Sum :', total)"
      ],
      "metadata": {
        "colab": {
          "base_uri": "https://localhost:8080/"
        },
        "id": "R5e_1eDBNOlh",
        "outputId": "3f02cd42-66c0-4382-a95f-66aac695b0a5"
      },
      "execution_count": 20,
      "outputs": [
        {
          "output_type": "stream",
          "name": "stdout",
          "text": [
            "Month :  1  Value :  2340\n",
            "Month :  2  Value :  2500\n",
            "Month :  3  Value :  2100\n",
            "Month :  4  Value :  3100\n",
            "Month :  5  Value :  2980\n",
            "Sum : 13020\n"
          ]
        }
      ]
    },
    {
      "cell_type": "code",
      "source": [
        "key_location = \"chair\"\n",
        "locations = ['garage', 'kitchen', 'liiving room','chair', 'closet']\n",
        "for i in locations:\n",
        "  if i == key_location:\n",
        "    print(\"Key is found\", i)\n",
        "    break\n",
        "  else:\n",
        "    print(\"key is not found\",i)"
      ],
      "metadata": {
        "colab": {
          "base_uri": "https://localhost:8080/"
        },
        "id": "SskDI9E3OM7_",
        "outputId": "b515c0fe-c313-496d-96c4-0a3608eb0015"
      },
      "execution_count": 21,
      "outputs": [
        {
          "output_type": "stream",
          "name": "stdout",
          "text": [
            "key is not found garage\n",
            "key is not found kitchen\n",
            "key is not found liiving room\n",
            "Key is found chair\n"
          ]
        }
      ]
    },
    {
      "cell_type": "code",
      "source": [
        "# print square of numbers between 1 to 5 except even numbers\n",
        "for i in range(1,6):\n",
        "  if(i%2 == 0):\n",
        "    continue\n",
        "  print(i*i)"
      ],
      "metadata": {
        "colab": {
          "base_uri": "https://localhost:8080/"
        },
        "id": "qcHBREptP5xH",
        "outputId": "8ae59f67-59e4-4c51-e3fe-0ec144f80ff8"
      },
      "execution_count": 22,
      "outputs": [
        {
          "output_type": "stream",
          "name": "stdout",
          "text": [
            "1\n",
            "9\n",
            "25\n"
          ]
        }
      ]
    },
    {
      "cell_type": "code",
      "source": [
        "i =1\n",
        "while i <=5:\n",
        "  print(i)\n",
        "  i= i+1"
      ],
      "metadata": {
        "colab": {
          "base_uri": "https://localhost:8080/"
        },
        "id": "tWi-GvKVQi8d",
        "outputId": "c0679632-215f-4013-a2d5-9af8908ab0b4"
      },
      "execution_count": 23,
      "outputs": [
        {
          "output_type": "stream",
          "name": "stdout",
          "text": [
            "1\n",
            "2\n",
            "3\n",
            "4\n",
            "5\n"
          ]
        }
      ]
    },
    {
      "cell_type": "code",
      "source": [
        "# After flipping a coin 10 times you got this result,\n",
        "result = [\"heads\",\"tails\",\"tails\",\"heads\",\"tails\",\"heads\",\"heads\",\"tails\",\"tails\",\"tails\"]\n",
        "# Using for loop figure out how many times you got heads\n",
        "\n",
        "total = 0\n",
        "for i in result:\n",
        "  if i == 'heads':\n",
        "    print(i)\n",
        "    total = total+1\n",
        "print(total)"
      ],
      "metadata": {
        "colab": {
          "base_uri": "https://localhost:8080/"
        },
        "id": "vYrGrmPYRQhU",
        "outputId": "5df74280-b11f-45eb-edd8-7f2cbd84340c"
      },
      "execution_count": 24,
      "outputs": [
        {
          "output_type": "stream",
          "name": "stdout",
          "text": [
            "heads\n",
            "heads\n",
            "heads\n",
            "heads\n",
            "4\n"
          ]
        }
      ]
    },
    {
      "cell_type": "code",
      "source": [
        "# Print square of all numbers between 1 to 10 except even numbers\n",
        "for i in range(1,11):\n",
        "  if (i%2 == 0):\n",
        "    continue\n",
        "  print(i*i)"
      ],
      "metadata": {
        "colab": {
          "base_uri": "https://localhost:8080/"
        },
        "id": "l7adcRwxR2F6",
        "outputId": "4062bc38-a702-4df6-d053-4706540f8758"
      },
      "execution_count": 25,
      "outputs": [
        {
          "output_type": "stream",
          "name": "stdout",
          "text": [
            "1\n",
            "9\n",
            "25\n",
            "49\n",
            "81\n"
          ]
        }
      ]
    },
    {
      "cell_type": "code",
      "source": [
        "# Your monthly expense list (from Jan to May) looks like this,\n",
        "expense_list = [2340, 2500, 2100, 3100, 2980]\n",
        "# Write a program that asks you to enter an expense amount and program should tell you in which month that expense occurred.\n",
        "# If expense is not found then it should print that as well\n",
        "\n",
        "x = input()\n",
        "x = float(x)\n",
        "for i  in range(len(expense_list)):\n",
        "  if x == expense_list[i]:\n",
        "    print(\"Month is \", i+1)\n",
        "    break\n",
        "  else:\n",
        "    print(\"There is not a matching month\")"
      ],
      "metadata": {
        "colab": {
          "base_uri": "https://localhost:8080/"
        },
        "id": "eEK31A8qSWjM",
        "outputId": "695abcd7-08e1-4a0a-b931-dd838e2267ad"
      },
      "execution_count": 26,
      "outputs": [
        {
          "output_type": "stream",
          "name": "stdout",
          "text": [
            "1\n",
            "There is not a matching month\n",
            "There is not a matching month\n",
            "There is not a matching month\n",
            "There is not a matching month\n",
            "There is not a matching month\n"
          ]
        }
      ]
    },
    {
      "cell_type": "code",
      "source": [
        "# Lets say you are running a 5 km race. Write a program that,\n",
        "\n",
        "# Upon completing each 1 km asks you \"are you tired?\"\n",
        "# If you reply \"yes\" then it should break and print \"you didn't finish the race\"\n",
        "# If you reply \"no\" then it should continue and ask \"are you tired\" on every km\n",
        "# If you finish all 5 km then it should print congratulations message\n",
        "\n",
        "for i in range(5):\n",
        "    print(f\"You ran {i+1} miles\") \n",
        "    tired = input(\"Are you tired? \")\n",
        "    if tired == 'yes':\n",
        "        break\n",
        "\n",
        "if i == 4: \n",
        "    print(\"Hurray! You are a rock star! You just finished 5 km race!\")\n",
        "else:\n",
        "    print(f\"You didn't finish 5 km race but hey congrats anyways! You still ran {i+1} miles\")"
      ],
      "metadata": {
        "colab": {
          "base_uri": "https://localhost:8080/"
        },
        "id": "HaAiwO3TTBkQ",
        "outputId": "26585792-3809-4250-9420-83a84d416633"
      },
      "execution_count": 27,
      "outputs": [
        {
          "output_type": "stream",
          "name": "stdout",
          "text": [
            "You ran 1 miles\n",
            "Are you tired? no\n",
            "You ran 2 miles\n",
            "Are you tired? yes\n",
            "You didn't finish 5 km race but hey congrats anyways! You still ran 2 miles\n"
          ]
        }
      ]
    },
    {
      "cell_type": "code",
      "source": [
        "# Write a program that prints following shape\n",
        "# *\n",
        "# **\n",
        "# ***\n",
        "# ****\n",
        "# *****\n",
        "\n",
        "for i in range(1,6):\n",
        "  s = ''\n",
        "  for j in range(i):\n",
        "    s += '*'\n",
        "    # print(s)\n",
        "  print(s)"
      ],
      "metadata": {
        "colab": {
          "base_uri": "https://localhost:8080/"
        },
        "id": "_qsgGHlKVUgp",
        "outputId": "8cf827b8-e917-49a0-dff3-850fda205216"
      },
      "execution_count": 28,
      "outputs": [
        {
          "output_type": "stream",
          "name": "stdout",
          "text": [
            "*\n",
            "**\n",
            "***\n",
            "****\n",
            "*****\n"
          ]
        }
      ]
    },
    {
      "cell_type": "markdown",
      "source": [
        "**Functions**"
      ],
      "metadata": {
        "id": "WQjX-_vTw-v2"
      }
    },
    {
      "cell_type": "code",
      "source": [
        "# Write a function called calculate_area that takes base and height as an input and returns and area of a triangle.\n",
        "# Equation of an area of a triangle is,\n",
        "# area = (1/2)*base*height\n",
        "\n",
        "def calc_area(base,height):\n",
        "  area = (1/2) * base * height\n",
        "  return area\n",
        "\n",
        "x1 = input(\"Please input base : \")\n",
        "x2 = input(\"Please input height : \")\n",
        "print(calc_area(float(x1),float(x2)))"
      ],
      "metadata": {
        "id": "9uAoe1tkXE6x",
        "colab": {
          "base_uri": "https://localhost:8080/"
        },
        "outputId": "5596b314-2dd1-4450-c467-dea68d28e980"
      },
      "execution_count": 29,
      "outputs": [
        {
          "output_type": "stream",
          "name": "stdout",
          "text": [
            "Please input base : 20\n",
            "Please input height : 10\n",
            "100.0\n"
          ]
        }
      ]
    },
    {
      "cell_type": "code",
      "source": [
        "# Modify above function to take third parameter shape type. It can be either \"triangle\" or \"rectangle\". \n",
        "# Based on shape type it will calculate area. Equation of rectangle's area is,\n",
        "# rectangle area=length*width\n",
        "\n",
        "def calc_area(base,height,shape):\n",
        "  if shape == \"traingle\":\n",
        "    return (1/2) * base * height\n",
        "  elif shape == \"rectangle\":\n",
        "    return base * height\n",
        "  else:\n",
        "    print(\"Please select a correct shape\")\n",
        "\n",
        "x1 = input(\"Please input base : \")\n",
        "x2 = input(\"Please input height : \")\n",
        "shape = input(\"Please input the shape you want : \")\n",
        "print(calc_area(float(x1),float(x2),shape))\n"
      ],
      "metadata": {
        "colab": {
          "base_uri": "https://localhost:8080/"
        },
        "id": "kPnHtdv7yuQi",
        "outputId": "23b18355-499e-4ea5-ac0c-bfc0c3f1a9bc"
      },
      "execution_count": 30,
      "outputs": [
        {
          "output_type": "stream",
          "name": "stdout",
          "text": [
            "Please input base : 20\n",
            "Please input height : 20\n",
            "Please input the shape you want : traingle\n",
            "200.0\n"
          ]
        }
      ]
    },
    {
      "cell_type": "code",
      "source": [
        "# Write a function called print_pattern that takes integer number as an argument and prints following pattern if input number is 3,\n",
        "# *\n",
        "# **\n",
        "# ***\n",
        "\n",
        "def print_tri(x):\n",
        "  for i in range(1,x):\n",
        "    s = \"\"\n",
        "    for j in range(i):\n",
        "      s = s + \"*\"\n",
        "    print(s)\n",
        "\n",
        "x = int(input(\"size :\"))\n",
        "print_tri(x)"
      ],
      "metadata": {
        "colab": {
          "base_uri": "https://localhost:8080/"
        },
        "id": "bxEWxww7zz2L",
        "outputId": "6fd1d6f0-8b67-4346-b0e5-30d220238a2c"
      },
      "execution_count": 31,
      "outputs": [
        {
          "output_type": "stream",
          "name": "stdout",
          "text": [
            "size :7\n",
            "*\n",
            "**\n",
            "***\n",
            "****\n",
            "*****\n",
            "******\n"
          ]
        }
      ]
    },
    {
      "cell_type": "markdown",
      "source": [
        "**Dictionaries and Tuples**"
      ],
      "metadata": {
        "id": "NFc0oLPu4MoA"
      }
    },
    {
      "cell_type": "code",
      "source": [
        "d = {}"
      ],
      "metadata": {
        "id": "FzILcyrM0hy8"
      },
      "execution_count": 32,
      "outputs": []
    },
    {
      "cell_type": "code",
      "source": [
        "d[\"tom\"] = \"0764306262\"\n",
        "d[\"habibi\"] = \"082342111\"\n",
        "d[\"aribba\"] = \"07834222212\""
      ],
      "metadata": {
        "id": "Ea8WRrYr4xns"
      },
      "execution_count": 33,
      "outputs": []
    },
    {
      "cell_type": "code",
      "source": [
        "for key in d:\n",
        "  print(key,\" \",d[key])"
      ],
      "metadata": {
        "colab": {
          "base_uri": "https://localhost:8080/"
        },
        "id": "ZiP39ulD4y-M",
        "outputId": "a435066f-c3cc-40cc-9191-04508a354553"
      },
      "execution_count": 34,
      "outputs": [
        {
          "output_type": "stream",
          "name": "stdout",
          "text": [
            "tom   0764306262\n",
            "habibi   082342111\n",
            "aribba   07834222212\n"
          ]
        }
      ]
    },
    {
      "cell_type": "code",
      "source": [
        "for k,v in d.items():\n",
        "  print(k, \" \", v)"
      ],
      "metadata": {
        "colab": {
          "base_uri": "https://localhost:8080/"
        },
        "id": "Ep3u7s-P5K8K",
        "outputId": "cb6b05eb-ce67-4de0-e25a-54e5b71ca014"
      },
      "execution_count": 35,
      "outputs": [
        {
          "output_type": "stream",
          "name": "stdout",
          "text": [
            "tom   0764306262\n",
            "habibi   082342111\n",
            "aribba   07834222212\n"
          ]
        }
      ]
    },
    {
      "cell_type": "code",
      "source": [
        "# We have following information on countries and their population (population is in crores),\n",
        "# Country\tPopulation\n",
        "# China\t143\n",
        "# India\t136\n",
        "# USA\t32\n",
        "# Pakistan\t21\n",
        "\n",
        "''' Using above create a dictionary of countries and its population '''\n",
        "\n",
        "d = {}\n",
        "d[\"China\"] = 143\n",
        "d[\"India\"] = 136\n",
        "d[\"USA\"] = 32\n",
        "d[\"Pakistan\"] = 21\n",
        "\n",
        "for key,v in d.items():\n",
        "  print(key, \" \" , v)"
      ],
      "metadata": {
        "colab": {
          "base_uri": "https://localhost:8080/"
        },
        "id": "l5b7wDFZ5U71",
        "outputId": "ae024ba7-7662-4e16-a6c3-7dcfc3f4f8ec"
      },
      "execution_count": 36,
      "outputs": [
        {
          "output_type": "stream",
          "name": "stdout",
          "text": [
            "China   143\n",
            "India   136\n",
            "USA   32\n",
            "Pakistan   21\n"
          ]
        }
      ]
    },
    {
      "cell_type": "code",
      "source": [
        "''' Write a program that asks user for three type of inputs '''\n",
        "\n",
        "# print: if user enter print then it should print all countries with their population in this format,\n",
        "# china==>143\n",
        "# india==>136\n",
        "# usa==>32\n",
        "# pakistan==>21\n",
        "\n",
        "population = {\n",
        "    'china': 143,\n",
        "    'india': 136,\n",
        "    'usa': 32,\n",
        "    'pakistan': 21\n",
        "}\n",
        "\n",
        "def print_all():\n",
        "  for country, p in population.items():\n",
        "    print(f\"{country}==>{p}\")\n",
        "\n",
        "# add: if user input add then it should further ask for a country name to add.\n",
        "# If country already exist in our dataset then it should print that it exist and do nothing. \n",
        "# If it doesn't then it asks for population and add that new country/population in our dictionary and print it\n",
        "\n",
        "def add():\n",
        "    country=input(\"Enter country name to add:\")\n",
        "    country=country.lower()\n",
        "    if country in population:\n",
        "        print(\"Country already exist in our dataset. Terminating\")\n",
        "        return\n",
        "    p=input(f\"Enter population for {country}\")\n",
        "    p=float(p)\n",
        "    population[country]=p # Adds new key value pair to dictionary\n",
        "    print_all()\n",
        "\n",
        "# remove: when user inputs remove it should ask for a country to remove. \n",
        "# If country exist in our dictionary then remove it and print new dictionary using format shown above in (a).\n",
        "# Else print that country doesn't exist!\n",
        "\n",
        "def remove():\n",
        "  country = input(\"Enter the country to remove : \")\n",
        "  country= country.lower()\n",
        "  if country in population:\n",
        "    print(\"It is in the datset, Popping\")\n",
        "    return\n",
        "  del population[country]\n",
        "  print_all()\n",
        "  \n",
        "\n",
        "# query: on this again ask user for which country he or she wants to query.\n",
        "# When user inputs that country it will print population of that country\n",
        "def query():\n",
        "    country = input(\"Enter country name to query:\")\n",
        "    country = country.lower()\n",
        "    if country not in population:\n",
        "        print(\"Country doesn't exist in our dataset. Terminating\")\n",
        "        return\n",
        "    print(f\"Population of {country} is: {population[country]} crore\")\n",
        "\n",
        "\n",
        "def main():\n",
        "    op=input(\"Enter operation (add, remove, query or print):\")\n",
        "    if op.lower() == 'add':\n",
        "        add()\n",
        "    elif op.lower() == 'remove':\n",
        "        remove()\n",
        "    elif op.lower() == 'query':\n",
        "        query()\n",
        "    elif op.lower() == 'print':\n",
        "        print_all()\n",
        "\n",
        "if __name__ == '__main__':\n",
        "    main()"
      ],
      "metadata": {
        "colab": {
          "base_uri": "https://localhost:8080/"
        },
        "id": "WwCFpler8eVU",
        "outputId": "e19cf2f6-a0e4-4321-de65-180c467755d6"
      },
      "execution_count": 37,
      "outputs": [
        {
          "output_type": "stream",
          "name": "stdout",
          "text": [
            "Enter operation (add, remove, query or print):add\n",
            "Enter country name to add:Sri Lanka\n",
            "Enter population for sri lanka2\n",
            "china==>143\n",
            "india==>136\n",
            "usa==>32\n",
            "pakistan==>21\n",
            "sri lanka==>2.0\n"
          ]
        }
      ]
    },
    {
      "cell_type": "code",
      "source": [
        "# You are given following list of stocks and their prices in last 3 days,\n",
        "\n",
        "# Stock\tPrices\n",
        "# info\t[600,630,620]\n",
        "# ril\t[1430,1490,1567]\n",
        "# mtl\t[234,180,160]\n",
        "\n",
        "'''Write a program that asks user for operation. Value of operations could be,\n",
        "print: When user enters print it should print following\n",
        "\n",
        "info ==> [600, 630, 620] ==> avg:  616.67\n",
        "ril ==> [1430, 1490, 1567] ==> avg:  1495.67\n",
        "mtl ==> [234, 180, 160] ==> avg:  191.33\n",
        "\n",
        "add: When user enters 'add', it asks for stock ticker and price. If stock already exist in your list \n",
        "(like info, ril etc) then it will append the price to the list. Otherwise it will create new entry in your dictionary.\n",
        "For example entering 'tata' and 560 will add tata ==> [560] to the dictionary of stocks.\n",
        "'''\n",
        "\n",
        "# Part 1\n",
        "stock_prices = {}\n",
        "stock_prices[\"info\"] = \t[600,630,620]\n",
        "stock_prices[\"ril\"] = [1430,1490,1567]\n",
        "stock_prices[\"mtl\"] = [234,180,160]\n",
        "\n",
        "def print_all():\n",
        "  for key,value in stock_prices.items():\n",
        "    total = 0\n",
        "    for i in value:\n",
        "      total= total+i\n",
        "    avg = float(total/len(value))\n",
        "    print(key, \" ==> \", value, \" ==> avg:  \", avg)\n",
        "\n",
        "# part 2\n",
        "def add():\n",
        "  s = input(\"Enter a stock ticker to add:\")\n",
        "  p = input(\"Enter price of this stock:\")\n",
        "  p=float(p)\n",
        "  if s in stock_prices:\n",
        "      stock_prices[s].append(p)\n",
        "  else:\n",
        "      stock_prices[s] = [p]\n",
        "  print_all()\n",
        "    \n",
        "def main():\n",
        "    op=input(\"Enter operation (add, print):\")\n",
        "    if op.lower() == 'add':\n",
        "        add()\n",
        "    elif op.lower() == 'print':\n",
        "        print_all()\n",
        "\n",
        "if __name__ == '__main__':\n",
        "    main()"
      ],
      "metadata": {
        "id": "_W2_qNsxJgvI",
        "colab": {
          "base_uri": "https://localhost:8080/"
        },
        "outputId": "ec048ca0-dfca-4515-c788-0f0072e0c1d5"
      },
      "execution_count": 56,
      "outputs": [
        {
          "output_type": "stream",
          "name": "stdout",
          "text": [
            "Enter operation (add, print):add\n",
            "Enter a stock ticker to add:sl\n",
            "Enter price of this stock:20\n",
            "info  ==>  [600, 630, 620]  ==> avg:   616.6666666666666\n",
            "ril  ==>  [1430, 1490, 1567]  ==> avg:   1495.6666666666667\n",
            "mtl  ==>  [234, 180, 160]  ==> avg:   191.33333333333334\n",
            "sl  ==>  [20.0]  ==> avg:   20.0\n"
          ]
        }
      ]
    },
    {
      "cell_type": "code",
      "source": [
        "'''Write circle_calc() function that takes \n",
        "radius of a circle as an input from user\n",
        "then it calculates and returns area, circumference and diameter. \n",
        "You should get these values in your main program by calling circle_calc function and then print them'''\n",
        "\n",
        "import math\n",
        "\n",
        "def circle_calc(radius):\n",
        "    area=math.pi*(radius**2)\n",
        "    circumference=2*math.pi*radius\n",
        "    diameter=2*radius\n",
        "    return area, circumference,diameter\n",
        "\n",
        "if __name__==\"__main__\":\n",
        "    r=input(\"Enter a radius:\")\n",
        "    r=float(r)\n",
        "    area, c, d = circle_calc(r)\n",
        "    print(f\"area {area}, circumference {c}, diameter {d}\")"
      ],
      "metadata": {
        "colab": {
          "base_uri": "https://localhost:8080/"
        },
        "id": "me5PUwDFiy32",
        "outputId": "ca957240-744a-4f7d-904d-243315b50ba5"
      },
      "execution_count": 57,
      "outputs": [
        {
          "output_type": "stream",
          "name": "stdout",
          "text": [
            "Enter a radius:5\n",
            "area 78.53981633974483, circumference 31.41592653589793, diameter 10.0\n"
          ]
        }
      ]
    },
    {
      "cell_type": "markdown",
      "source": [
        "# **Modules**\n",
        "\n",
        "Modules is a way to reuse a code written by someone else. We can use modules written by someone else in our code."
      ],
      "metadata": {
        "id": "74Sx9JiixAYF"
      }
    },
    {
      "cell_type": "code",
      "source": [
        "import calendar\n",
        "dir(calendar)"
      ],
      "metadata": {
        "colab": {
          "base_uri": "https://localhost:8080/"
        },
        "id": "jMHRZ0_MwJt3",
        "outputId": "d4f14b36-ab9a-4125-8671-2fb497d87e63"
      },
      "execution_count": 59,
      "outputs": [
        {
          "output_type": "execute_result",
          "data": {
            "text/plain": [
              "['Calendar',\n",
              " 'EPOCH',\n",
              " 'FRIDAY',\n",
              " 'February',\n",
              " 'HTMLCalendar',\n",
              " 'IllegalMonthError',\n",
              " 'IllegalWeekdayError',\n",
              " 'January',\n",
              " 'LocaleHTMLCalendar',\n",
              " 'LocaleTextCalendar',\n",
              " 'MONDAY',\n",
              " 'SATURDAY',\n",
              " 'SUNDAY',\n",
              " 'THURSDAY',\n",
              " 'TUESDAY',\n",
              " 'TextCalendar',\n",
              " 'WEDNESDAY',\n",
              " '_EPOCH_ORD',\n",
              " '__all__',\n",
              " '__builtins__',\n",
              " '__cached__',\n",
              " '__doc__',\n",
              " '__file__',\n",
              " '__loader__',\n",
              " '__name__',\n",
              " '__package__',\n",
              " '__spec__',\n",
              " '_colwidth',\n",
              " '_locale',\n",
              " '_localized_day',\n",
              " '_localized_month',\n",
              " '_spacing',\n",
              " 'c',\n",
              " 'calendar',\n",
              " 'datetime',\n",
              " 'day_abbr',\n",
              " 'day_name',\n",
              " 'different_locale',\n",
              " 'error',\n",
              " 'firstweekday',\n",
              " 'format',\n",
              " 'formatstring',\n",
              " 'isleap',\n",
              " 'leapdays',\n",
              " 'main',\n",
              " 'mdays',\n",
              " 'month',\n",
              " 'month_abbr',\n",
              " 'month_name',\n",
              " 'monthcalendar',\n",
              " 'monthlen',\n",
              " 'monthrange',\n",
              " 'nextmonth',\n",
              " 'prcal',\n",
              " 'prevmonth',\n",
              " 'prmonth',\n",
              " 'prweek',\n",
              " 'repeat',\n",
              " 'setfirstweekday',\n",
              " 'sys',\n",
              " 'timegm',\n",
              " 'week',\n",
              " 'weekday',\n",
              " 'weekheader']"
            ]
          },
          "metadata": {},
          "execution_count": 59
        }
      ]
    },
    {
      "cell_type": "code",
      "source": [
        "import calendar\n",
        "y = int(input(\"Input the year : \"))\n",
        "m = int(input(\"Input the month : \"))\n",
        "print(calendar.month(y, m))"
      ],
      "metadata": {
        "colab": {
          "base_uri": "https://localhost:8080/"
        },
        "id": "rCyxFSjvyVcA",
        "outputId": "8e01102f-f86a-43e6-98bf-9c75dbb28a1c"
      },
      "execution_count": 60,
      "outputs": [
        {
          "output_type": "stream",
          "name": "stdout",
          "text": [
            "Input the year : 2022\n",
            "Input the month : 4\n",
            "     April 2022\n",
            "Mo Tu We Th Fr Sa Su\n",
            "             1  2  3\n",
            " 4  5  6  7  8  9 10\n",
            "11 12 13 14 15 16 17\n",
            "18 19 20 21 22 23 24\n",
            "25 26 27 28 29 30\n",
            "\n"
          ]
        }
      ]
    },
    {
      "cell_type": "markdown",
      "source": [
        "We can write our own python modules (ex: functions.py)\n",
        "\n",
        "- If in same folder\n",
        "\n",
        "```\n",
        "import functions as func\n",
        "```\n",
        "- If functions.py is in subdirectory called modules\n",
        "\n",
        "```\n",
        "import modules.functions as func\n",
        "```\n",
        "\n",
        "- If functions.py is in a another folder in the laptop we have to use system path\n",
        "\n",
        "```\n",
        "import sys\n",
        "sys.path.append(\"c:\\new_folder\")\n",
        "import functions as func\n",
        "```\n",
        "\n"
      ],
      "metadata": {
        "id": "1LqG8WAq1NWm"
      }
    },
    {
      "cell_type": "markdown",
      "source": [
        "# **JSON OBJECTS**"
      ],
      "metadata": {
        "id": "x9A0IlFc8z_I"
      }
    },
    {
      "cell_type": "code",
      "source": [
        "import json\n",
        "\n",
        "book = {}\n",
        "book[\"tom\"] = {'name':'tom', 'address':'No 20. Paluwelagla Road, Koswaththa', 'Phone_No': '0832323232' }\n",
        "book[\"bob\"] = {'name':'bob', 'address':'No 100. Paluwel Road, Naththandiya', 'Phone_No': '0832323233' }\n",
        "\n",
        "new = json.dumps(book) \n",
        "# It takes dictionary object book as an input\n",
        "# Then dumping it as a string \n",
        "# Then it converts the dictionary object as a string\n",
        "# Then it will be converted to JSON\n",
        "\n",
        "''' for writing it is w'''\n",
        "with open('/content/sample.txt','w') as f:\n",
        "  f.write(new)\n",
        "\n",
        "# We can read this file now from c++ or JS\n",
        "# Hence this is called a data exchange format"
      ],
      "metadata": {
        "id": "QNH5GJ1qywlB"
      },
      "execution_count": 65,
      "outputs": []
    },
    {
      "cell_type": "code",
      "source": [
        "''' for reading it is r'''\n",
        "f = open('/content/sample.txt','r')\n",
        "s = f.read()\n",
        "print(s)"
      ],
      "metadata": {
        "colab": {
          "base_uri": "https://localhost:8080/"
        },
        "id": "z9D40CZ4-igU",
        "outputId": "fba6cac0-2f6b-40b5-bc90-505c1d8ab91c"
      },
      "execution_count": 66,
      "outputs": [
        {
          "output_type": "stream",
          "name": "stdout",
          "text": [
            "{\"tom\": {\"name\": \"tom\", \"address\": \"No 20. Paluwelagla Road, Koswaththa\", \"Phone_No\": \"0832323232\"}, \"bob\": {\"name\": \"bob\", \"address\": \"No 100. Paluwel Road, Naththandiya\", \"Phone_No\": \"0832323233\"}}\n"
          ]
        }
      ]
    },
    {
      "cell_type": "code",
      "source": [
        "import json\n",
        "book = json.loads(s) # json load string (loads), it will convert s into a dictionary\n",
        "type(book)"
      ],
      "metadata": {
        "colab": {
          "base_uri": "https://localhost:8080/"
        },
        "id": "QoU9L_vlBeGU",
        "outputId": "ec60f988-5dcd-4756-97c6-5418891d93d5"
      },
      "execution_count": 67,
      "outputs": [
        {
          "output_type": "execute_result",
          "data": {
            "text/plain": [
              "dict"
            ]
          },
          "metadata": {},
          "execution_count": 67
        }
      ]
    },
    {
      "cell_type": "code",
      "source": [
        "book['bob']"
      ],
      "metadata": {
        "colab": {
          "base_uri": "https://localhost:8080/"
        },
        "id": "v0HSo5iNB64H",
        "outputId": "b17b3d7c-4d44-434b-f3d5-2b9b519ad57b"
      },
      "execution_count": 68,
      "outputs": [
        {
          "output_type": "execute_result",
          "data": {
            "text/plain": [
              "{'Phone_No': '0832323233',\n",
              " 'address': 'No 100. Paluwel Road, Naththandiya',\n",
              " 'name': 'bob'}"
            ]
          },
          "metadata": {},
          "execution_count": 68
        }
      ]
    },
    {
      "cell_type": "code",
      "source": [
        "book['bob']['Phone_No']"
      ],
      "metadata": {
        "colab": {
          "base_uri": "https://localhost:8080/",
          "height": 35
        },
        "id": "HzSVnHCJB-ZO",
        "outputId": "56fa7250-c1c6-47c8-ff4c-f2f7ce7d51d8"
      },
      "execution_count": 69,
      "outputs": [
        {
          "output_type": "execute_result",
          "data": {
            "text/plain": [
              "'0832323233'"
            ],
            "application/vnd.google.colaboratory.intrinsic+json": {
              "type": "string"
            }
          },
          "metadata": {},
          "execution_count": 69
        }
      ]
    },
    {
      "cell_type": "code",
      "source": [
        "for person in book:\n",
        "  print(book[person])"
      ],
      "metadata": {
        "colab": {
          "base_uri": "https://localhost:8080/"
        },
        "id": "Y6qzslIJCIOV",
        "outputId": "f849884f-74af-4d7a-adac-cff182347c52"
      },
      "execution_count": 70,
      "outputs": [
        {
          "output_type": "stream",
          "name": "stdout",
          "text": [
            "{'name': 'tom', 'address': 'No 20. Paluwelagla Road, Koswaththa', 'Phone_No': '0832323232'}\n",
            "{'name': 'bob', 'address': 'No 100. Paluwel Road, Naththandiya', 'Phone_No': '0832323233'}\n"
          ]
        }
      ]
    },
    {
      "cell_type": "code",
      "source": [
        "for person in book:\n",
        "  for k,v in book[person].items():\n",
        "    print(k, '   ',v)\n",
        "  print('\\n')"
      ],
      "metadata": {
        "colab": {
          "base_uri": "https://localhost:8080/"
        },
        "id": "BkvrZSlKCc_d",
        "outputId": "78b2c7eb-4df7-430d-a688-e76eeb9eee07"
      },
      "execution_count": 72,
      "outputs": [
        {
          "output_type": "stream",
          "name": "stdout",
          "text": [
            "name     tom\n",
            "address     No 20. Paluwelagla Road, Koswaththa\n",
            "Phone_No     0832323232\n",
            "\n",
            "\n",
            "name     bob\n",
            "address     No 100. Paluwel Road, Naththandiya\n",
            "Phone_No     0832323233\n",
            "\n",
            "\n"
          ]
        }
      ]
    },
    {
      "cell_type": "code",
      "source": [
        "import json\n",
        "f = open('/content/example.txt',\"w+\")\n",
        "\n",
        "phone_book = {}\n",
        "command = \"\"\n",
        "while command != 'exit':\n",
        "    command = input('Enter a command(options: new,get,save): ')\n",
        "    if command == \"new\":\n",
        "        name = input('Enter name of the person')\n",
        "        p = input('Phone number: ')\n",
        "        a = input('Address: ')\n",
        "        phone_book[name] = {'phone': p, 'address': a}\n",
        "    elif command == 'get':\n",
        "        name = input('Enter name of the person')\n",
        "        if name in phone_book:\n",
        "            print(phone_book[name])\n",
        "        else:\n",
        "            print('person not found in address book')\n",
        "    elif command == 'save':\n",
        "        f.write(json.dumps(phone_book))"
      ],
      "metadata": {
        "colab": {
          "base_uri": "https://localhost:8080/"
        },
        "id": "utG1MziNComk",
        "outputId": "626f4c19-9cd1-490d-e839-e345250b4a05"
      },
      "execution_count": 73,
      "outputs": [
        {
          "name": "stdout",
          "output_type": "stream",
          "text": [
            "Enter a command(options: new,get,save): new\n",
            "Enter name of the personBuddhika\n",
            "Phone number: 0764306262\n",
            "Address: No 20, Koswaththa\n",
            "Enter a command(options: new,get,save): get\n",
            "Enter name of the personBuddhika\n",
            "{'phone': '0764306262', 'address': 'No 20, Koswaththa'}\n",
            "Enter a command(options: new,get,save): save\n",
            "Enter a command(options: new,get,save): new\n",
            "Enter name of the personAribba\n",
            "Phone number: 0873447272\n",
            "Address: No 02, Colombo\n",
            "Enter a command(options: new,get,save): exit\n"
          ]
        }
      ]
    },
    {
      "cell_type": "code",
      "source": [
        ""
      ],
      "metadata": {
        "id": "laskOP70Eop4"
      },
      "execution_count": null,
      "outputs": []
    }
  ]
}