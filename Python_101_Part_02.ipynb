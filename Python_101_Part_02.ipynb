{
  "nbformat": 4,
  "nbformat_minor": 0,
  "metadata": {
    "colab": {
      "name": "Python 101 - Part 02.ipynb",
      "provenance": [],
      "collapsed_sections": [],
      "authorship_tag": "ABX9TyMsMLlzHnhf+lffWALg+g/j",
      "include_colab_link": true
    },
    "kernelspec": {
      "name": "python3",
      "display_name": "Python 3"
    },
    "language_info": {
      "name": "python"
    }
  },
  "cells": [
    {
      "cell_type": "markdown",
      "metadata": {
        "id": "view-in-github",
        "colab_type": "text"
      },
      "source": [
        "<a href=\"https://colab.research.google.com/github/TurboJapuraEfac/HackerrankPython/blob/master/Python_101_Part_02.ipynb\" target=\"_parent\"><img src=\"https://colab.research.google.com/assets/colab-badge.svg\" alt=\"Open In Colab\"/></a>"
      ]
    },
    {
      "cell_type": "markdown",
      "source": [
        "# **Reading/ Writing new files**\n",
        "\n",
        "\n",
        "\n",
        "1.   Create a new file and write to it\n",
        "2.   Reding file line by line\n",
        "3.   File open modes\n",
        "4.   With statement\n",
        "\n"
      ],
      "metadata": {
        "id": "nw-5edWITKYa"
      }
    },
    {
      "cell_type": "markdown",
      "source": [
        "1. Create a new file and write to it"
      ],
      "metadata": {
        "id": "J-0MD7PTaUu_"
      }
    },
    {
      "cell_type": "code",
      "execution_count": null,
      "metadata": {
        "id": "5lkMlEG7QvXX"
      },
      "outputs": [],
      "source": [
        "# create a new file called funny.txt\n",
        "\n",
        "# we have to use open function\n",
        "# 1st param is file name\n",
        "# 2nd param is file open mode\n",
        "\n",
        "f = open(\"/content/funny.txt\",\"w\")\n",
        "# here w mode will overwrite the previous content \n",
        "# f.write(\"I love python\")\n",
        "f.write(\"I love Javascript\")\n",
        "f.close()"
      ]
    },
    {
      "cell_type": "code",
      "source": [
        "# If we don't want to overwrite we want to use append mode \"a\"\n",
        "f = open(\"/content/funny.txt\",\"a\")\n",
        "f.write(\"\\n I love PHP\")\n",
        "f.close()"
      ],
      "metadata": {
        "id": "s5zKgR6jUir6"
      },
      "execution_count": null,
      "outputs": []
    },
    {
      "cell_type": "markdown",
      "source": [
        "2. Read file line by line"
      ],
      "metadata": {
        "id": "UyV_UHOZacJu"
      }
    },
    {
      "cell_type": "code",
      "source": [
        "# Read file line by line\n",
        "\n",
        "# Teacher : Why are you late Frank?\n",
        "# Frank : Because of the sign\n",
        "# Teacher : What sign ? \n",
        "# Frank : \"The one what says school ahead, go slow\"\n",
        "\n",
        "# Change funny.txt to this\n",
        "# Create a new file that has all the lines in funny.txt plus word count for each line\n",
        "f = open(\"/content/funny.txt\",\"r\")\n",
        "print(f.read()) # read whole content\n",
        "f.close()\n",
        "\n",
        "f = open(\"/content/funny.txt\",\"r\")\n",
        "f_out = open(\"/content/new_funny.txt\",\"w\")\n",
        "for line in f: # read line by line\n",
        "  tokens = line.split(\" \")\n",
        "  print(tokens)\n",
        "  print(len(tokens))\n",
        "  f_out.write(line+\" Word Count : \" + str(len(tokens)))\n",
        "f.close()\n",
        "f_out.close()"
      ],
      "metadata": {
        "colab": {
          "base_uri": "https://localhost:8080/"
        },
        "id": "vzmVORS0VPga",
        "outputId": "82048b39-c972-4414-9f8d-625b82ad1353"
      },
      "execution_count": null,
      "outputs": [
        {
          "output_type": "stream",
          "name": "stdout",
          "text": [
            "Teacher : Why are you late Frank?\n",
            "Frank : Because of the sign\n",
            "Teacher : What sign ? \n",
            "Frank : \"The one what says school ahead, go slow\"\n",
            "['Teacher', ':', 'Why', 'are', 'you', 'late', 'Frank?\\n']\n",
            "7\n",
            "['Frank', ':', 'Because', 'of', 'the', 'sign\\n']\n",
            "6\n",
            "['Teacher', ':', 'What', 'sign', '?', '\\n']\n",
            "6\n",
            "['Frank', ':', '\"The', 'one', 'what', 'says', 'school', 'ahead,', 'go', 'slow\"']\n",
            "10\n"
          ]
        }
      ]
    },
    {
      "cell_type": "markdown",
      "source": [
        "3. File open modes\n",
        "\n",
        "  a. If we open a file in read mode we cannot write to it\n",
        "\n",
        "  b. If we open a file in write mode we cannot read it\n",
        "\n",
        "  c.If we want both read and writing we have to use `\"r+\"` or `\"w+\"`. Difference is if the file does not exist in w mode it will create it. In r mode it will not create it.\n",
        "\n"
      ],
      "metadata": {
        "id": "PZqsNoP6aiLN"
      }
    },
    {
      "cell_type": "markdown",
      "source": [
        "4. With Open - with automatically closes file"
      ],
      "metadata": {
        "id": "DeVO8XZwbtx4"
      }
    },
    {
      "cell_type": "code",
      "source": [
        "# Using with will automatically close the file for us\n",
        "with open(\"/content/funny.txt\",\"r\") as f:\n",
        "  print(f.read())"
      ],
      "metadata": {
        "colab": {
          "base_uri": "https://localhost:8080/"
        },
        "id": "M6Mo2kepWzIK",
        "outputId": "80fe27de-f70c-4d5f-e437-f76fe8ae33e4"
      },
      "execution_count": null,
      "outputs": [
        {
          "output_type": "stream",
          "name": "stdout",
          "text": [
            "Teacher : Why are you late Frank?\n",
            "Frank : Because of the sign\n",
            "Teacher : What sign ? \n",
            "Frank : \"The one what says school ahead, go slow\"\n"
          ]
        }
      ]
    },
    {
      "cell_type": "code",
      "source": [
        "# EXERCISES\n",
        "\n",
        "'''poem.txt contains famous poem \"Road not taken\" by poet Robert Frost.\n",
        "You have to read this file in your python program and find out words with maximum occurance.'''\n",
        "\n",
        "# create a dictionary with words and counts\n",
        "word_stats = {}\n",
        "\n",
        "with open(\"/content/poem.txt\",\"r+\") as f:\n",
        "  # print(f.read())\n",
        "  for line in f:\n",
        "    line = line.strip('\\n')\n",
        "    tokens = line.split(\" \")\n",
        "    if len(tokens) == 1:\n",
        "      continue\n",
        "    # print(tokens)\n",
        "    for word in tokens:\n",
        "      if word in word_stats:\n",
        "        word_stats[word] +=1\n",
        "      else:\n",
        "        word_stats[word] = 1\n",
        "\n",
        "print(word_stats)\n",
        "print('\\n')\n",
        "\n",
        "# convert values into a list\n",
        "print(word_stats.values())\n",
        "print(list(word_stats.values()))\n",
        "\n",
        "word_occurances = list(word_stats.values())\n",
        "max_count = max(word_occurances)\n",
        "\n",
        "# get the max count from the list\n",
        "print(\"Max occurances of any word is:\",max_count)\n",
        "print('\\n')\n",
        "\n",
        "# check what word equals to max count in the list\n",
        "print(\"Words with max occurances are: \")\n",
        "for word, count in word_stats.items():\n",
        "    if count==max_count:\n",
        "        print(word)"
      ],
      "metadata": {
        "colab": {
          "base_uri": "https://localhost:8080/"
        },
        "id": "0ACpszOZcRvj",
        "outputId": "90b48485-2468-48a7-f8e9-f0a83b16e4dc"
      },
      "execution_count": null,
      "outputs": [
        {
          "output_type": "stream",
          "name": "stdout",
          "text": [
            "{'Two': 2, 'roads': 2, 'diverged': 2, 'in': 3, 'a': 3, 'yellow': 1, 'wood,': 2, 'And': 6, 'sorry': 1, 'I': 8, 'could': 2, 'not': 1, 'travel': 1, 'both': 2, 'be': 2, 'one': 3, 'traveler,': 1, 'long': 1, 'stood': 1, 'looked': 1, 'down': 1, 'as': 5, 'far': 1, 'To': 1, 'where': 1, 'it': 2, 'bent': 1, 'the': 8, 'undergrowth;': 1, 'Then': 1, 'took': 2, 'other,': 1, 'just': 1, 'fair,': 1, 'having': 1, 'perhaps': 1, 'better': 1, 'claim,': 1, 'Because': 1, 'was': 1, 'grassy': 1, 'and': 3, 'wanted': 1, 'wear;': 1, 'Though': 1, 'for': 2, 'that': 3, 'passing': 1, 'there': 1, 'Had': 1, 'worn': 1, 'them': 1, 'really': 1, 'about': 1, 'same,': 1, 'morning': 1, 'equally': 1, 'lay': 1, 'In': 1, 'leaves': 1, 'no': 1, 'step': 1, 'had': 1, 'trodden': 1, 'black.': 1, 'Oh,': 1, 'kept': 1, 'first': 1, 'another': 1, 'day!': 1, 'Yet': 1, 'knowing': 1, 'how': 1, 'way': 1, 'leads': 1, 'on': 1, 'to': 1, 'way,': 1, 'doubted': 1, 'if': 1, 'should': 1, 'ever': 1, 'come': 1, 'back.': 1, 'shall': 1, 'telling': 1, 'this': 1, 'with': 1, 'sigh': 1, 'Somewhere': 1, 'ages': 2, 'hence:': 1, 'I—': 1, 'less': 1, 'traveled': 1, 'by,': 1, 'has': 1, 'made': 1, 'all': 1, 'difference.': 1}\n",
            "\n",
            "\n",
            "dict_values([2, 2, 2, 3, 3, 1, 2, 6, 1, 8, 2, 1, 1, 2, 2, 3, 1, 1, 1, 1, 1, 5, 1, 1, 1, 2, 1, 8, 1, 1, 2, 1, 1, 1, 1, 1, 1, 1, 1, 1, 1, 3, 1, 1, 1, 2, 3, 1, 1, 1, 1, 1, 1, 1, 1, 1, 1, 1, 1, 1, 1, 1, 1, 1, 1, 1, 1, 1, 1, 1, 1, 1, 1, 1, 1, 1, 1, 1, 1, 1, 1, 1, 1, 1, 1, 1, 1, 1, 1, 1, 2, 1, 1, 1, 1, 1, 1, 1, 1, 1])\n",
            "[2, 2, 2, 3, 3, 1, 2, 6, 1, 8, 2, 1, 1, 2, 2, 3, 1, 1, 1, 1, 1, 5, 1, 1, 1, 2, 1, 8, 1, 1, 2, 1, 1, 1, 1, 1, 1, 1, 1, 1, 1, 3, 1, 1, 1, 2, 3, 1, 1, 1, 1, 1, 1, 1, 1, 1, 1, 1, 1, 1, 1, 1, 1, 1, 1, 1, 1, 1, 1, 1, 1, 1, 1, 1, 1, 1, 1, 1, 1, 1, 1, 1, 1, 1, 1, 1, 1, 1, 1, 1, 2, 1, 1, 1, 1, 1, 1, 1, 1, 1]\n",
            "Max occurances of any word is: 8\n",
            "\n",
            "\n",
            "Words with max occurances are: \n",
            "I\n",
            "the\n"
          ]
        }
      ]
    },
    {
      "cell_type": "code",
      "source": [
        "'''\n",
        "stocks.csv contains stock price, earnings per share and book value.\n",
        "You are writing a stock market application that will process this file and create a new file with financial metrics\n",
        "such as pe ratio and price to book ratio. These are calculated as \n",
        "\n",
        "pe ratio = price / earnings per share\n",
        "price to book ratio = price / book value\n",
        "\n",
        "Output.csv should look like this,\n",
        "\n",
        "Company Name\tPE Ratio\tPB Ratio\n",
        "Reliance\t22.23\t2.25\n",
        "Tata Steel\t4.39\t0.68\n",
        "'''\n",
        "\n",
        "import csv\n",
        "header = ['Company Name',\t'Price',\t'Earnings Per Share',\t'Book Value']\n",
        "data = [\n",
        "    ['Reliance',1467,66,653],\n",
        "    ['Tata Steel',391,89,572],\n",
        "    ['Infosys',650,35,147],\n",
        "    ['Axis Bank',739,19,263],\n",
        "    ['Bajaj Finance',4044,69,341]\n",
        "]\n",
        "\n",
        "with open('stocks.csv', 'w+', encoding='UTF8', newline='') as f:\n",
        "    writer = csv.writer(f)\n",
        "    writer.writerow(header)\n",
        "    writer.writerows(data)"
      ],
      "metadata": {
        "id": "VQvYao3cfQEo"
      },
      "execution_count": 32,
      "outputs": []
    },
    {
      "cell_type": "code",
      "source": [
        "import pandas as pd \n",
        "data = pd.read_csv(\"/content/stocks.csv\") \n",
        "data.head()"
      ],
      "metadata": {
        "colab": {
          "base_uri": "https://localhost:8080/",
          "height": 206
        },
        "id": "IdHvC_g8nL8h",
        "outputId": "cb4308eb-34a3-402e-bb83-5c48b07af7f9"
      },
      "execution_count": 33,
      "outputs": [
        {
          "output_type": "execute_result",
          "data": {
            "text/plain": [
              "    Company Name  Price  Earnings Per Share  Book Value\n",
              "0       Reliance   1467                  66         653\n",
              "1     Tata Steel    391                  89         572\n",
              "2        Infosys    650                  35         147\n",
              "3      Axis Bank    739                  19         263\n",
              "4  Bajaj Finance   4044                  69         341"
            ],
            "text/html": [
              "\n",
              "  <div id=\"df-8ee0df5f-510a-4d28-b0d2-38761bd7f51b\">\n",
              "    <div class=\"colab-df-container\">\n",
              "      <div>\n",
              "<style scoped>\n",
              "    .dataframe tbody tr th:only-of-type {\n",
              "        vertical-align: middle;\n",
              "    }\n",
              "\n",
              "    .dataframe tbody tr th {\n",
              "        vertical-align: top;\n",
              "    }\n",
              "\n",
              "    .dataframe thead th {\n",
              "        text-align: right;\n",
              "    }\n",
              "</style>\n",
              "<table border=\"1\" class=\"dataframe\">\n",
              "  <thead>\n",
              "    <tr style=\"text-align: right;\">\n",
              "      <th></th>\n",
              "      <th>Company Name</th>\n",
              "      <th>Price</th>\n",
              "      <th>Earnings Per Share</th>\n",
              "      <th>Book Value</th>\n",
              "    </tr>\n",
              "  </thead>\n",
              "  <tbody>\n",
              "    <tr>\n",
              "      <th>0</th>\n",
              "      <td>Reliance</td>\n",
              "      <td>1467</td>\n",
              "      <td>66</td>\n",
              "      <td>653</td>\n",
              "    </tr>\n",
              "    <tr>\n",
              "      <th>1</th>\n",
              "      <td>Tata Steel</td>\n",
              "      <td>391</td>\n",
              "      <td>89</td>\n",
              "      <td>572</td>\n",
              "    </tr>\n",
              "    <tr>\n",
              "      <th>2</th>\n",
              "      <td>Infosys</td>\n",
              "      <td>650</td>\n",
              "      <td>35</td>\n",
              "      <td>147</td>\n",
              "    </tr>\n",
              "    <tr>\n",
              "      <th>3</th>\n",
              "      <td>Axis Bank</td>\n",
              "      <td>739</td>\n",
              "      <td>19</td>\n",
              "      <td>263</td>\n",
              "    </tr>\n",
              "    <tr>\n",
              "      <th>4</th>\n",
              "      <td>Bajaj Finance</td>\n",
              "      <td>4044</td>\n",
              "      <td>69</td>\n",
              "      <td>341</td>\n",
              "    </tr>\n",
              "  </tbody>\n",
              "</table>\n",
              "</div>\n",
              "      <button class=\"colab-df-convert\" onclick=\"convertToInteractive('df-8ee0df5f-510a-4d28-b0d2-38761bd7f51b')\"\n",
              "              title=\"Convert this dataframe to an interactive table.\"\n",
              "              style=\"display:none;\">\n",
              "        \n",
              "  <svg xmlns=\"http://www.w3.org/2000/svg\" height=\"24px\"viewBox=\"0 0 24 24\"\n",
              "       width=\"24px\">\n",
              "    <path d=\"M0 0h24v24H0V0z\" fill=\"none\"/>\n",
              "    <path d=\"M18.56 5.44l.94 2.06.94-2.06 2.06-.94-2.06-.94-.94-2.06-.94 2.06-2.06.94zm-11 1L8.5 8.5l.94-2.06 2.06-.94-2.06-.94L8.5 2.5l-.94 2.06-2.06.94zm10 10l.94 2.06.94-2.06 2.06-.94-2.06-.94-.94-2.06-.94 2.06-2.06.94z\"/><path d=\"M17.41 7.96l-1.37-1.37c-.4-.4-.92-.59-1.43-.59-.52 0-1.04.2-1.43.59L10.3 9.45l-7.72 7.72c-.78.78-.78 2.05 0 2.83L4 21.41c.39.39.9.59 1.41.59.51 0 1.02-.2 1.41-.59l7.78-7.78 2.81-2.81c.8-.78.8-2.07 0-2.86zM5.41 20L4 18.59l7.72-7.72 1.47 1.35L5.41 20z\"/>\n",
              "  </svg>\n",
              "      </button>\n",
              "      \n",
              "  <style>\n",
              "    .colab-df-container {\n",
              "      display:flex;\n",
              "      flex-wrap:wrap;\n",
              "      gap: 12px;\n",
              "    }\n",
              "\n",
              "    .colab-df-convert {\n",
              "      background-color: #E8F0FE;\n",
              "      border: none;\n",
              "      border-radius: 50%;\n",
              "      cursor: pointer;\n",
              "      display: none;\n",
              "      fill: #1967D2;\n",
              "      height: 32px;\n",
              "      padding: 0 0 0 0;\n",
              "      width: 32px;\n",
              "    }\n",
              "\n",
              "    .colab-df-convert:hover {\n",
              "      background-color: #E2EBFA;\n",
              "      box-shadow: 0px 1px 2px rgba(60, 64, 67, 0.3), 0px 1px 3px 1px rgba(60, 64, 67, 0.15);\n",
              "      fill: #174EA6;\n",
              "    }\n",
              "\n",
              "    [theme=dark] .colab-df-convert {\n",
              "      background-color: #3B4455;\n",
              "      fill: #D2E3FC;\n",
              "    }\n",
              "\n",
              "    [theme=dark] .colab-df-convert:hover {\n",
              "      background-color: #434B5C;\n",
              "      box-shadow: 0px 1px 3px 1px rgba(0, 0, 0, 0.15);\n",
              "      filter: drop-shadow(0px 1px 2px rgba(0, 0, 0, 0.3));\n",
              "      fill: #FFFFFF;\n",
              "    }\n",
              "  </style>\n",
              "\n",
              "      <script>\n",
              "        const buttonEl =\n",
              "          document.querySelector('#df-8ee0df5f-510a-4d28-b0d2-38761bd7f51b button.colab-df-convert');\n",
              "        buttonEl.style.display =\n",
              "          google.colab.kernel.accessAllowed ? 'block' : 'none';\n",
              "\n",
              "        async function convertToInteractive(key) {\n",
              "          const element = document.querySelector('#df-8ee0df5f-510a-4d28-b0d2-38761bd7f51b');\n",
              "          const dataTable =\n",
              "            await google.colab.kernel.invokeFunction('convertToInteractive',\n",
              "                                                     [key], {});\n",
              "          if (!dataTable) return;\n",
              "\n",
              "          const docLinkHtml = 'Like what you see? Visit the ' +\n",
              "            '<a target=\"_blank\" href=https://colab.research.google.com/notebooks/data_table.ipynb>data table notebook</a>'\n",
              "            + ' to learn more about interactive tables.';\n",
              "          element.innerHTML = '';\n",
              "          dataTable['output_type'] = 'display_data';\n",
              "          await google.colab.output.renderOutput(dataTable, element);\n",
              "          const docLink = document.createElement('div');\n",
              "          docLink.innerHTML = docLinkHtml;\n",
              "          element.appendChild(docLink);\n",
              "        }\n",
              "      </script>\n",
              "    </div>\n",
              "  </div>\n",
              "  "
            ]
          },
          "metadata": {},
          "execution_count": 33
        }
      ]
    },
    {
      "cell_type": "code",
      "source": [
        "data[\"PE Ratio\"] = data[\"Price\"] / data[\"Earnings Per Share\"]\n",
        "data[\"PB Ratio\"] = data[\"Price\"] / data[\"Book Value\"]\n",
        "data.head()"
      ],
      "metadata": {
        "colab": {
          "base_uri": "https://localhost:8080/",
          "height": 206
        },
        "id": "XHUxjigkn8rg",
        "outputId": "3b3d836a-3c07-48c0-e63a-4136700bc64b"
      },
      "execution_count": 34,
      "outputs": [
        {
          "output_type": "execute_result",
          "data": {
            "text/plain": [
              "    Company Name  Price  Earnings Per Share  Book Value   PE Ratio   PB Ratio\n",
              "0       Reliance   1467                  66         653  22.227273   2.246554\n",
              "1     Tata Steel    391                  89         572   4.393258   0.683566\n",
              "2        Infosys    650                  35         147  18.571429   4.421769\n",
              "3      Axis Bank    739                  19         263  38.894737   2.809886\n",
              "4  Bajaj Finance   4044                  69         341  58.608696  11.859238"
            ],
            "text/html": [
              "\n",
              "  <div id=\"df-df698508-1c76-4ec7-864d-729c4413be1d\">\n",
              "    <div class=\"colab-df-container\">\n",
              "      <div>\n",
              "<style scoped>\n",
              "    .dataframe tbody tr th:only-of-type {\n",
              "        vertical-align: middle;\n",
              "    }\n",
              "\n",
              "    .dataframe tbody tr th {\n",
              "        vertical-align: top;\n",
              "    }\n",
              "\n",
              "    .dataframe thead th {\n",
              "        text-align: right;\n",
              "    }\n",
              "</style>\n",
              "<table border=\"1\" class=\"dataframe\">\n",
              "  <thead>\n",
              "    <tr style=\"text-align: right;\">\n",
              "      <th></th>\n",
              "      <th>Company Name</th>\n",
              "      <th>Price</th>\n",
              "      <th>Earnings Per Share</th>\n",
              "      <th>Book Value</th>\n",
              "      <th>PE Ratio</th>\n",
              "      <th>PB Ratio</th>\n",
              "    </tr>\n",
              "  </thead>\n",
              "  <tbody>\n",
              "    <tr>\n",
              "      <th>0</th>\n",
              "      <td>Reliance</td>\n",
              "      <td>1467</td>\n",
              "      <td>66</td>\n",
              "      <td>653</td>\n",
              "      <td>22.227273</td>\n",
              "      <td>2.246554</td>\n",
              "    </tr>\n",
              "    <tr>\n",
              "      <th>1</th>\n",
              "      <td>Tata Steel</td>\n",
              "      <td>391</td>\n",
              "      <td>89</td>\n",
              "      <td>572</td>\n",
              "      <td>4.393258</td>\n",
              "      <td>0.683566</td>\n",
              "    </tr>\n",
              "    <tr>\n",
              "      <th>2</th>\n",
              "      <td>Infosys</td>\n",
              "      <td>650</td>\n",
              "      <td>35</td>\n",
              "      <td>147</td>\n",
              "      <td>18.571429</td>\n",
              "      <td>4.421769</td>\n",
              "    </tr>\n",
              "    <tr>\n",
              "      <th>3</th>\n",
              "      <td>Axis Bank</td>\n",
              "      <td>739</td>\n",
              "      <td>19</td>\n",
              "      <td>263</td>\n",
              "      <td>38.894737</td>\n",
              "      <td>2.809886</td>\n",
              "    </tr>\n",
              "    <tr>\n",
              "      <th>4</th>\n",
              "      <td>Bajaj Finance</td>\n",
              "      <td>4044</td>\n",
              "      <td>69</td>\n",
              "      <td>341</td>\n",
              "      <td>58.608696</td>\n",
              "      <td>11.859238</td>\n",
              "    </tr>\n",
              "  </tbody>\n",
              "</table>\n",
              "</div>\n",
              "      <button class=\"colab-df-convert\" onclick=\"convertToInteractive('df-df698508-1c76-4ec7-864d-729c4413be1d')\"\n",
              "              title=\"Convert this dataframe to an interactive table.\"\n",
              "              style=\"display:none;\">\n",
              "        \n",
              "  <svg xmlns=\"http://www.w3.org/2000/svg\" height=\"24px\"viewBox=\"0 0 24 24\"\n",
              "       width=\"24px\">\n",
              "    <path d=\"M0 0h24v24H0V0z\" fill=\"none\"/>\n",
              "    <path d=\"M18.56 5.44l.94 2.06.94-2.06 2.06-.94-2.06-.94-.94-2.06-.94 2.06-2.06.94zm-11 1L8.5 8.5l.94-2.06 2.06-.94-2.06-.94L8.5 2.5l-.94 2.06-2.06.94zm10 10l.94 2.06.94-2.06 2.06-.94-2.06-.94-.94-2.06-.94 2.06-2.06.94z\"/><path d=\"M17.41 7.96l-1.37-1.37c-.4-.4-.92-.59-1.43-.59-.52 0-1.04.2-1.43.59L10.3 9.45l-7.72 7.72c-.78.78-.78 2.05 0 2.83L4 21.41c.39.39.9.59 1.41.59.51 0 1.02-.2 1.41-.59l7.78-7.78 2.81-2.81c.8-.78.8-2.07 0-2.86zM5.41 20L4 18.59l7.72-7.72 1.47 1.35L5.41 20z\"/>\n",
              "  </svg>\n",
              "      </button>\n",
              "      \n",
              "  <style>\n",
              "    .colab-df-container {\n",
              "      display:flex;\n",
              "      flex-wrap:wrap;\n",
              "      gap: 12px;\n",
              "    }\n",
              "\n",
              "    .colab-df-convert {\n",
              "      background-color: #E8F0FE;\n",
              "      border: none;\n",
              "      border-radius: 50%;\n",
              "      cursor: pointer;\n",
              "      display: none;\n",
              "      fill: #1967D2;\n",
              "      height: 32px;\n",
              "      padding: 0 0 0 0;\n",
              "      width: 32px;\n",
              "    }\n",
              "\n",
              "    .colab-df-convert:hover {\n",
              "      background-color: #E2EBFA;\n",
              "      box-shadow: 0px 1px 2px rgba(60, 64, 67, 0.3), 0px 1px 3px 1px rgba(60, 64, 67, 0.15);\n",
              "      fill: #174EA6;\n",
              "    }\n",
              "\n",
              "    [theme=dark] .colab-df-convert {\n",
              "      background-color: #3B4455;\n",
              "      fill: #D2E3FC;\n",
              "    }\n",
              "\n",
              "    [theme=dark] .colab-df-convert:hover {\n",
              "      background-color: #434B5C;\n",
              "      box-shadow: 0px 1px 3px 1px rgba(0, 0, 0, 0.15);\n",
              "      filter: drop-shadow(0px 1px 2px rgba(0, 0, 0, 0.3));\n",
              "      fill: #FFFFFF;\n",
              "    }\n",
              "  </style>\n",
              "\n",
              "      <script>\n",
              "        const buttonEl =\n",
              "          document.querySelector('#df-df698508-1c76-4ec7-864d-729c4413be1d button.colab-df-convert');\n",
              "        buttonEl.style.display =\n",
              "          google.colab.kernel.accessAllowed ? 'block' : 'none';\n",
              "\n",
              "        async function convertToInteractive(key) {\n",
              "          const element = document.querySelector('#df-df698508-1c76-4ec7-864d-729c4413be1d');\n",
              "          const dataTable =\n",
              "            await google.colab.kernel.invokeFunction('convertToInteractive',\n",
              "                                                     [key], {});\n",
              "          if (!dataTable) return;\n",
              "\n",
              "          const docLinkHtml = 'Like what you see? Visit the ' +\n",
              "            '<a target=\"_blank\" href=https://colab.research.google.com/notebooks/data_table.ipynb>data table notebook</a>'\n",
              "            + ' to learn more about interactive tables.';\n",
              "          element.innerHTML = '';\n",
              "          dataTable['output_type'] = 'display_data';\n",
              "          await google.colab.output.renderOutput(dataTable, element);\n",
              "          const docLink = document.createElement('div');\n",
              "          docLink.innerHTML = docLinkHtml;\n",
              "          element.appendChild(docLink);\n",
              "        }\n",
              "      </script>\n",
              "    </div>\n",
              "  </div>\n",
              "  "
            ]
          },
          "metadata": {},
          "execution_count": 34
        }
      ]
    },
    {
      "cell_type": "code",
      "source": [
        "new = data[['Company Name','PE Ratio','PB Ratio']]\n",
        "new.head()\n",
        "new.to_csv('output.csv')"
      ],
      "metadata": {
        "id": "0eaYvfMEpGPE"
      },
      "execution_count": 36,
      "outputs": []
    },
    {
      "cell_type": "markdown",
      "source": [
        "# **if __name__ == \"__main__\"**"
      ],
      "metadata": {
        "id": "IxCSKcBp0BuK"
      }
    },
    {
      "cell_type": "code",
      "source": [
        "def calc_area(base,height):\n",
        "  return 1/2*base*height\n",
        "\n",
        "if __name__ == \"__main__\":\n",
        "  a = calc_area(10,20)\n",
        "  print(\"Area :\",a)"
      ],
      "metadata": {
        "colab": {
          "base_uri": "https://localhost:8080/"
        },
        "id": "peITw55IpoDj",
        "outputId": "57e5df5c-fcdd-4867-a1ac-03397c05e0d4"
      },
      "execution_count": 37,
      "outputs": [
        {
          "output_type": "stream",
          "name": "stdout",
          "text": [
            "Area : 100.0\n"
          ]
        }
      ]
    },
    {
      "cell_type": "code",
      "source": [
        "__name__ # this is a predefined variable"
      ],
      "metadata": {
        "colab": {
          "base_uri": "https://localhost:8080/",
          "height": 35
        },
        "id": "-B3dkLaK0ppi",
        "outputId": "cb1c4367-3963-414c-8013-039b58094e4a"
      },
      "execution_count": 38,
      "outputs": [
        {
          "output_type": "execute_result",
          "data": {
            "text/plain": [
              "'__main__'"
            ],
            "application/vnd.google.colaboratory.intrinsic+json": {
              "type": "string"
            }
          },
          "metadata": {},
          "execution_count": 38
        }
      ]
    },
    {
      "cell_type": "markdown",
      "source": [
        "# **Exception Handling**"
      ],
      "metadata": {
        "id": "boJgWgpi2H5q"
      }
    },
    {
      "cell_type": "markdown",
      "source": [
        "\n",
        "\n",
        "*   Exceptions are errors detected at the time of program execution\n",
        "*   Google python built in exceptions to see list of standard exceptions\n",
        "\n"
      ],
      "metadata": {
        "id": "OxuPKgqp2MQG"
      }
    },
    {
      "cell_type": "code",
      "source": [
        "'''\n",
        "1/0 ==> division by zero\n",
        "'abc'+2 ==> string + int concatanation\n",
        "'''\n",
        "\n",
        "x=input(\"Enter number1: \")\n",
        "y=input(\"Enter number2: \")\n",
        "\n",
        "# Normal code inside try\n",
        "try:\n",
        "    z = int(x) / int(y)\n",
        "except ZeroDivisionError as e:\n",
        "    print('Division by zero exception')\n",
        "    z = None\n",
        "except TypeError as e:\n",
        "    print('Type error exception')\n",
        "    z = None\n",
        "print(\"Division is: \", z)"
      ],
      "metadata": {
        "colab": {
          "base_uri": "https://localhost:8080/"
        },
        "id": "Drj5u4Q50vsB",
        "outputId": "94a2c1f5-23fb-4801-be39-46eb64a1219f"
      },
      "execution_count": 40,
      "outputs": [
        {
          "output_type": "stream",
          "name": "stdout",
          "text": [
            "Enter number1: 1\n",
            "Enter number2: 0\n",
            "Division by zero exception\n",
            "Division is:  None\n"
          ]
        }
      ]
    },
    {
      "cell_type": "markdown",
      "source": [
        "# **Classes**"
      ],
      "metadata": {
        "id": "M19iCpeg4yfT"
      }
    },
    {
      "cell_type": "markdown",
      "source": [
        "**Human**\n",
        "\n",
        "*Properties*\n",
        "*   Name\n",
        "*   Gender\n",
        "*   Occuaption\n",
        "\n",
        "*Methods*\n",
        "*   Speaks\n",
        "*   Do Work\n",
        "*   Sleeps \n",
        "\n",
        "`Properties and Methods form a class `\n",
        "\n",
        "`Object is a specific instance of a class`\n",
        "\n",
        "\"Buddhika Weerasinghe\"\n"
      ],
      "metadata": {
        "id": "HIqgi5C15EDM"
      }
    },
    {
      "cell_type": "code",
      "source": [
        "class Human:\n",
        "  # Here self is just a syntax / class it self\n",
        "  def __init__(self, Name, Job):   #this function initializes the properties of that particular class \n",
        "    self.name = Name\n",
        "    self.occupation = Job\n",
        "  \n",
        "  def do_work(self):\n",
        "    if self.occupation == \"tennis player\":\n",
        "        print(self.name, \"plays tennis\")\n",
        "    elif self.occupation == \"actor\":\n",
        "        print(self.name, \"shoots film\")\n",
        "\n",
        "  def speaks(self):\n",
        "    print(self.name, \"says how are you?\")\n",
        "\n",
        "tom = Human(\"tom cruise\",\"actor\") # self is always passed\n",
        "tom.do_work()\n",
        "tom.speaks()\n",
        "\n",
        "maria = Human(\"maria sharapova\",\"tennis player\")  # self is always passed\n",
        "maria.do_work()\n",
        "maria.speaks()\n"
      ],
      "metadata": {
        "colab": {
          "base_uri": "https://localhost:8080/"
        },
        "id": "J083CctH2rNH",
        "outputId": "fb039761-58e1-41c1-feb5-128fc64c17a1"
      },
      "execution_count": 42,
      "outputs": [
        {
          "output_type": "stream",
          "name": "stdout",
          "text": [
            "tom cruise shoots film\n",
            "tom cruise says how are you?\n",
            "maria sharapova plays tennis\n",
            "maria sharapova says how are you?\n"
          ]
        }
      ]
    },
    {
      "cell_type": "code",
      "source": [
        "# Create a sample class named Employee with two attributes id and name\n",
        "# employee :\n",
        "#     id\n",
        "#     name\n",
        "\n",
        "class Employee:\n",
        "  \n",
        "  def __init__(self, ID, EmpName):\n",
        "    self.id = ID\n",
        "    self.name = EmpName\n",
        "\n",
        "  def print_details(self):\n",
        "    print(f\"ID: {self.id} \\nName: {self.name}\")\n",
        "\n",
        "# Creating a emp instance of Employee class\n",
        "emp = Employee(1, \"coder\")\n",
        "emp.print_details()\n",
        "\n",
        "# Deleting the property of object\n",
        "del emp.id"
      ],
      "metadata": {
        "colab": {
          "base_uri": "https://localhost:8080/"
        },
        "id": "qvoLebn18GlS",
        "outputId": "c3049323-47eb-4368-b4cf-8ee8fa305dc8"
      },
      "execution_count": 51,
      "outputs": [
        {
          "output_type": "stream",
          "name": "stdout",
          "text": [
            "ID: 1 \n",
            "Name: coder\n"
          ]
        }
      ]
    },
    {
      "cell_type": "code",
      "source": [
        "# Deleting the object itself\n",
        "\n",
        "# try:\n",
        "#   print(emp.id)\n",
        "# except NameError:\n",
        "#   print(\"emp.id is not defined\")\n",
        "\n",
        "del emp\n",
        "\n",
        "try:\n",
        "  emp.print_details()  # it will gives error after deleting emp\n",
        "except NameError:\n",
        "  print(\"emp is not defined\")"
      ],
      "metadata": {
        "colab": {
          "base_uri": "https://localhost:8080/"
        },
        "id": "WCvSzMi89dpB",
        "outputId": "f61fcf43-ecc4-44ee-a7cf-ec900078cfbc"
      },
      "execution_count": 53,
      "outputs": [
        {
          "output_type": "stream",
          "name": "stdout",
          "text": [
            "emp is not defined\n"
          ]
        }
      ]
    },
    {
      "cell_type": "code",
      "source": [
        ""
      ],
      "metadata": {
        "id": "p18MsMVA9wHa"
      },
      "execution_count": null,
      "outputs": []
    }
  ]
}